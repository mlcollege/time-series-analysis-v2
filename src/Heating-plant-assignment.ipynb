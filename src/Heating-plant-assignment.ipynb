{
  "nbformat": 4,
  "nbformat_minor": 0,
  "metadata": {
    "colab": {
      "name": "Heating-plant-assignment.ipynb",
      "provenance": []
    },
    "kernelspec": {
      "name": "python3",
      "display_name": "Python 3"
    },
    "accelerator": "GPU"
  },
  "cells": [
    {
      "cell_type": "markdown",
      "metadata": {
        "id": "3EePx5wNWKAq"
      },
      "source": [
        "# Heating plant\n",
        "\n",
        "We have a dataset from a real heating plant located in a medium-sized city in Europe. The heating plant heats water and distributes the heat around the city. Our goal is to predict temperature of the returning water based on actual and historical power settings of the plant, output water temperature and the outside temperatures measured at different locations in the city."
      ]
    },
    {
      "cell_type": "markdown",
      "metadata": {
        "id": "axsWXirEWO5B"
      },
      "source": [
        "## Data import"
      ]
    },
    {
      "cell_type": "code",
      "metadata": {
        "id": "-tczeX-9WQvp"
      },
      "source": [
        "import pandas as pd\n",
        "\n",
        "#power of sectors 1 and 2 (in megawatts)\n",
        "power12 = pd.read_csv('https://raw.githubusercontent.com/mlcollege/rbi/master/specializations/Time-Series-Analysis/data/power12.csv', sep=',')\n",
        "#power of sector 3 (in megawatts)\n",
        "power3 = pd.read_csv('https://raw.githubusercontent.com/mlcollege/rbi/master/specializations/Time-Series-Analysis/data/power3.csv', sep=',')\n",
        "#power of sector 4 (in megawatts)\n",
        "power4 = pd.read_csv('https://raw.githubusercontent.com/mlcollege/rbi/master/specializations/Time-Series-Analysis/data/power4.csv', sep=',')\n",
        "\n",
        "\n",
        "#temperatures at location #1\n",
        "temp1 = pd.read_csv('https://raw.githubusercontent.com/mlcollege/rbi/master/specializations/Time-Series-Analysis/data/temp1.csv', sep=',')\n",
        "#temperatures at location #2\n",
        "temp2 = pd.read_csv('https://raw.githubusercontent.com/mlcollege/rbi/master/specializations/Time-Series-Analysis/data/temp2.csv', sep=',')\n",
        "#temperatures at location #3\n",
        "temp3 = pd.read_csv('https://raw.githubusercontent.com/mlcollege/rbi/master/specializations/Time-Series-Analysis/data/temp3.csv', sep=',')\n",
        "#temperatures at location #4\n",
        "temp4 = pd.read_csv('https://raw.githubusercontent.com/mlcollege/rbi/master/specializations/Time-Series-Analysis/data/temp4.csv', sep=',')\n",
        "#temperatures at location #5\n",
        "temp5 = pd.read_csv('https://raw.githubusercontent.com/mlcollege/rbi/master/specializations/Time-Series-Analysis/data/temp5.csv', sep=',')\n",
        "\n",
        "\n",
        "#input water temperatures\n",
        "temp_in = pd.read_csv('https://raw.githubusercontent.com/mlcollege/rbi/master/specializations/Time-Series-Analysis/data/temp_in.csv', sep=',')\n",
        "#output water temperatures\n",
        "temp_out = pd.read_csv('https://raw.githubusercontent.com/mlcollege/rbi/master/specializations/Time-Series-Analysis/data/temp_out.csv', sep=',')"
      ],
      "execution_count": null,
      "outputs": []
    },
    {
      "cell_type": "markdown",
      "metadata": {
        "id": "adFWNe9lZK5p"
      },
      "source": [
        "## Data cleaning and preparation\n",
        "\n",
        "\n"
      ]
    },
    {
      "cell_type": "markdown",
      "metadata": {
        "id": "OqCcqA0Vf_9n"
      },
      "source": [
        "### TASK 1: Merge all files into one data frame\n",
        "\n",
        "Don't forget to convert the 'ts' column to time stamp type using 'pandas.to_datetime()'."
      ]
    },
    {
      "cell_type": "code",
      "metadata": {
        "id": "a6jgbWL6h4PW"
      },
      "source": [
        "#TODO"
      ],
      "execution_count": null,
      "outputs": []
    },
    {
      "cell_type": "markdown",
      "metadata": {
        "id": "BHe8e2evgI1w"
      },
      "source": [
        "### Task 2: Clean data\n",
        "Check whether the data files are aligned, if there are some outliers, missing data, etc. Based on your findings suggest and implement a solution."
      ]
    },
    {
      "cell_type": "code",
      "metadata": {
        "id": "iK_VYTIx0cna"
      },
      "source": [
        "#TODO"
      ],
      "execution_count": 1,
      "outputs": []
    },
    {
      "cell_type": "markdown",
      "metadata": {
        "id": "JpqVhb7Ujep2"
      },
      "source": [
        "##Task 3: Create time series data\n",
        "\n"
      ]
    },
    {
      "cell_type": "code",
      "metadata": {
        "id": "pGl0F4YwjVF5"
      },
      "source": [
        "w = 5 #window size\n",
        "s = 1 #step\n",
        "X_all = []\n",
        "y_all = []"
      ],
      "execution_count": null,
      "outputs": []
    },
    {
      "cell_type": "code",
      "metadata": {
        "colab": {
          "base_uri": "https://localhost:8080/"
        },
        "id": "dkJKm971mnlJ",
        "outputId": "fcd980fb-baa6-427c-95d6-ae3b80a5b7bf"
      },
      "source": [
        "#TODO"
      ],
      "execution_count": null,
      "outputs": [
        {
          "output_type": "stream",
          "text": [
            "(12976, 5, 10)\n",
            "(12976,)\n"
          ],
          "name": "stdout"
        }
      ]
    },
    {
      "cell_type": "markdown",
      "metadata": {
        "id": "TSMF9rpVoh25"
      },
      "source": [
        "##Task 4: Split data into validation and train data sets and train an ML model\n",
        "\n",
        "Hints: \n",
        " - Before training an ML model, suggest and implement some baseline\n",
        " - As the data is not big enough, try to use cross validation\n",
        " - A recurrent neural network is not necessarily the best model for this task"
      ]
    },
    {
      "cell_type": "code",
      "metadata": {
        "id": "YLoSjQpJmpld"
      },
      "source": [
        "#TODO"
      ],
      "execution_count": null,
      "outputs": []
    }
  ]
}