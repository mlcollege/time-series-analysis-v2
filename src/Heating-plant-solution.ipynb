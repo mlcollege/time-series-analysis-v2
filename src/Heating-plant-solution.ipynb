{
  "nbformat": 4,
  "nbformat_minor": 0,
  "metadata": {
    "colab": {
      "name": "Heating-plant-solution.ipynb",
      "provenance": []
    },
    "kernelspec": {
      "name": "python3",
      "display_name": "Python 3"
    },
    "accelerator": "GPU"
  },
  "cells": [
    {
      "cell_type": "markdown",
      "metadata": {
        "id": "3EePx5wNWKAq"
      },
      "source": [
        "# Heating plant\n",
        "\n",
        "We have a dataset from a real heating plant located in a medium-sized city in Europe. The heating plant heats water and distributes the heat around the city. Our goal is to predict temperature of the returning water based on actual and historical power settings of the plant, output water temperature and the outside temperatures measured at different locations in the city."
      ]
    },
    {
      "cell_type": "markdown",
      "metadata": {
        "id": "axsWXirEWO5B"
      },
      "source": [
        "## Data import"
      ]
    },
    {
      "cell_type": "code",
      "metadata": {
        "id": "-tczeX-9WQvp"
      },
      "source": [
        "import pandas as pd\n",
        "\n",
        "#power of sectors 1 and 2 (in megawatts)\n",
        "power12 = pd.read_csv('https://raw.githubusercontent.com/mlcollege/rbi/master/specializations/Time-Series-Analysis/data/power12.csv', sep=',')\n",
        "#power of sector 3 (in megawatts)\n",
        "power3 = pd.read_csv('https://raw.githubusercontent.com/mlcollege/rbi/master/specializations/Time-Series-Analysis/data/power3.csv', sep=',')\n",
        "#power of sector 4 (in megawatts)\n",
        "power4 = pd.read_csv('https://raw.githubusercontent.com/mlcollege/rbi/master/specializations/Time-Series-Analysis/data/power4.csv', sep=',')\n",
        "\n",
        "\n",
        "#temperatures at location #1\n",
        "temp1 = pd.read_csv('https://raw.githubusercontent.com/mlcollege/rbi/master/specializations/Time-Series-Analysis/data/temp1.csv', sep=',')\n",
        "#temperatures at location #2\n",
        "temp2 = pd.read_csv('https://raw.githubusercontent.com/mlcollege/rbi/master/specializations/Time-Series-Analysis/data/temp2.csv', sep=',')\n",
        "#temperatures at location #3\n",
        "temp3 = pd.read_csv('https://raw.githubusercontent.com/mlcollege/rbi/master/specializations/Time-Series-Analysis/data/temp3.csv', sep=',')\n",
        "#temperatures at location #4\n",
        "temp4 = pd.read_csv('https://raw.githubusercontent.com/mlcollege/rbi/master/specializations/Time-Series-Analysis/data/temp4.csv', sep=',')\n",
        "#temperatures at location #5\n",
        "temp5 = pd.read_csv('https://raw.githubusercontent.com/mlcollege/rbi/master/specializations/Time-Series-Analysis/data/temp5.csv', sep=',')\n",
        "\n",
        "\n",
        "#input water temperatures\n",
        "temp_in = pd.read_csv('https://raw.githubusercontent.com/mlcollege/rbi/master/specializations/Time-Series-Analysis/data/temp_in.csv', sep=',')\n",
        "#output water temperatures\n",
        "temp_out = pd.read_csv('https://raw.githubusercontent.com/mlcollege/rbi/master/specializations/Time-Series-Analysis/data/temp_out.csv', sep=',')"
      ],
      "execution_count": 1,
      "outputs": []
    },
    {
      "cell_type": "markdown",
      "metadata": {
        "id": "adFWNe9lZK5p"
      },
      "source": [
        "## Data cleaning and preparation\n",
        "\n",
        "\n"
      ]
    },
    {
      "cell_type": "markdown",
      "metadata": {
        "id": "OqCcqA0Vf_9n"
      },
      "source": [
        "### TASK 1: Merge all files into one data frame\n",
        "\n",
        "Don't forget to convert the 'ts' column to time stamp type using 'pandas.to_datetime()'."
      ]
    },
    {
      "cell_type": "code",
      "metadata": {
        "colab": {
          "base_uri": "https://localhost:8080/",
          "height": 206
        },
        "id": "Rx5-6iYIWiJy",
        "outputId": "379befaf-b3b4-48ea-e7a0-f6555bfa1aed"
      },
      "source": [
        "#merge powers of all sectors\n",
        "data = power12[['ts','power12']].merge(power3[['ts','power3']], on='ts').merge(power4[['ts','power4']], on='ts')\n",
        "data.head()"
      ],
      "execution_count": 2,
      "outputs": [
        {
          "output_type": "execute_result",
          "data": {
            "text/html": [
              "<div>\n",
              "<style scoped>\n",
              "    .dataframe tbody tr th:only-of-type {\n",
              "        vertical-align: middle;\n",
              "    }\n",
              "\n",
              "    .dataframe tbody tr th {\n",
              "        vertical-align: top;\n",
              "    }\n",
              "\n",
              "    .dataframe thead th {\n",
              "        text-align: right;\n",
              "    }\n",
              "</style>\n",
              "<table border=\"1\" class=\"dataframe\">\n",
              "  <thead>\n",
              "    <tr style=\"text-align: right;\">\n",
              "      <th></th>\n",
              "      <th>ts</th>\n",
              "      <th>power12</th>\n",
              "      <th>power3</th>\n",
              "      <th>power4</th>\n",
              "    </tr>\n",
              "  </thead>\n",
              "  <tbody>\n",
              "    <tr>\n",
              "      <th>0</th>\n",
              "      <td>2018-12-31 20:00:00+00:00</td>\n",
              "      <td>53.461340</td>\n",
              "      <td>87.796478</td>\n",
              "      <td>105.498682</td>\n",
              "    </tr>\n",
              "    <tr>\n",
              "      <th>1</th>\n",
              "      <td>2018-12-31 21:00:00+00:00</td>\n",
              "      <td>54.464130</td>\n",
              "      <td>74.151459</td>\n",
              "      <td>105.017897</td>\n",
              "    </tr>\n",
              "    <tr>\n",
              "      <th>2</th>\n",
              "      <td>2018-12-31 22:00:00+00:00</td>\n",
              "      <td>54.191047</td>\n",
              "      <td>70.918662</td>\n",
              "      <td>105.600836</td>\n",
              "    </tr>\n",
              "    <tr>\n",
              "      <th>3</th>\n",
              "      <td>2018-12-31 23:00:00+00:00</td>\n",
              "      <td>54.243952</td>\n",
              "      <td>69.949829</td>\n",
              "      <td>106.664194</td>\n",
              "    </tr>\n",
              "    <tr>\n",
              "      <th>4</th>\n",
              "      <td>2019-01-01 00:00:00+00:00</td>\n",
              "      <td>53.277664</td>\n",
              "      <td>68.645953</td>\n",
              "      <td>106.001002</td>\n",
              "    </tr>\n",
              "  </tbody>\n",
              "</table>\n",
              "</div>"
            ],
            "text/plain": [
              "                          ts    power12     power3      power4\n",
              "0  2018-12-31 20:00:00+00:00  53.461340  87.796478  105.498682\n",
              "1  2018-12-31 21:00:00+00:00  54.464130  74.151459  105.017897\n",
              "2  2018-12-31 22:00:00+00:00  54.191047  70.918662  105.600836\n",
              "3  2018-12-31 23:00:00+00:00  54.243952  69.949829  106.664194\n",
              "4  2019-01-01 00:00:00+00:00  53.277664  68.645953  106.001002"
            ]
          },
          "metadata": {},
          "execution_count": 2
        }
      ]
    },
    {
      "cell_type": "code",
      "metadata": {
        "colab": {
          "base_uri": "https://localhost:8080/",
          "height": 206
        },
        "id": "8KJsQ_dCWlv4",
        "outputId": "94ce5352-4a3e-4fd6-eff5-5d37e746978d"
      },
      "source": [
        "#merge temperatures at all locations\n",
        "data = data.merge(temp1[['ts', 'temp1']], on='ts')\n",
        "data = data.merge(temp2[['ts', 'temp2']], on='ts')\n",
        "data = data.merge(temp3[['ts', 'temp3']], on='ts')\n",
        "data = data.merge(temp4[['ts', 'temp4']], on='ts')\n",
        "data = data.merge(temp5[['ts', 'temp5']], on='ts')\n",
        "data.head()"
      ],
      "execution_count": 3,
      "outputs": [
        {
          "output_type": "execute_result",
          "data": {
            "text/html": [
              "<div>\n",
              "<style scoped>\n",
              "    .dataframe tbody tr th:only-of-type {\n",
              "        vertical-align: middle;\n",
              "    }\n",
              "\n",
              "    .dataframe tbody tr th {\n",
              "        vertical-align: top;\n",
              "    }\n",
              "\n",
              "    .dataframe thead th {\n",
              "        text-align: right;\n",
              "    }\n",
              "</style>\n",
              "<table border=\"1\" class=\"dataframe\">\n",
              "  <thead>\n",
              "    <tr style=\"text-align: right;\">\n",
              "      <th></th>\n",
              "      <th>ts</th>\n",
              "      <th>power12</th>\n",
              "      <th>power3</th>\n",
              "      <th>power4</th>\n",
              "      <th>temp1</th>\n",
              "      <th>temp2</th>\n",
              "      <th>temp3</th>\n",
              "      <th>temp4</th>\n",
              "      <th>temp5</th>\n",
              "    </tr>\n",
              "  </thead>\n",
              "  <tbody>\n",
              "    <tr>\n",
              "      <th>0</th>\n",
              "      <td>2018-12-31 20:00:00+00:00</td>\n",
              "      <td>53.461340</td>\n",
              "      <td>87.796478</td>\n",
              "      <td>105.498682</td>\n",
              "      <td>3.011382</td>\n",
              "      <td>4.319544</td>\n",
              "      <td>3.913138</td>\n",
              "      <td>4.772481</td>\n",
              "      <td>3.598558</td>\n",
              "    </tr>\n",
              "    <tr>\n",
              "      <th>1</th>\n",
              "      <td>2018-12-31 21:00:00+00:00</td>\n",
              "      <td>54.464130</td>\n",
              "      <td>74.151459</td>\n",
              "      <td>105.017897</td>\n",
              "      <td>3.439440</td>\n",
              "      <td>4.909789</td>\n",
              "      <td>4.428925</td>\n",
              "      <td>5.561646</td>\n",
              "      <td>4.411865</td>\n",
              "    </tr>\n",
              "    <tr>\n",
              "      <th>2</th>\n",
              "      <td>2018-12-31 22:00:00+00:00</td>\n",
              "      <td>54.191047</td>\n",
              "      <td>70.918662</td>\n",
              "      <td>105.600836</td>\n",
              "      <td>3.637795</td>\n",
              "      <td>5.066491</td>\n",
              "      <td>4.603145</td>\n",
              "      <td>5.854397</td>\n",
              "      <td>4.684823</td>\n",
              "    </tr>\n",
              "    <tr>\n",
              "      <th>3</th>\n",
              "      <td>2018-12-31 23:00:00+00:00</td>\n",
              "      <td>54.243952</td>\n",
              "      <td>69.949829</td>\n",
              "      <td>106.664194</td>\n",
              "      <td>3.694362</td>\n",
              "      <td>5.293024</td>\n",
              "      <td>4.542157</td>\n",
              "      <td>5.981506</td>\n",
              "      <td>4.747482</td>\n",
              "    </tr>\n",
              "    <tr>\n",
              "      <th>4</th>\n",
              "      <td>2019-01-01 00:00:00+00:00</td>\n",
              "      <td>53.277664</td>\n",
              "      <td>68.645953</td>\n",
              "      <td>106.001002</td>\n",
              "      <td>3.739370</td>\n",
              "      <td>5.414588</td>\n",
              "      <td>4.739108</td>\n",
              "      <td>6.081391</td>\n",
              "      <td>4.883813</td>\n",
              "    </tr>\n",
              "  </tbody>\n",
              "</table>\n",
              "</div>"
            ],
            "text/plain": [
              "                          ts    power12  ...     temp4     temp5\n",
              "0  2018-12-31 20:00:00+00:00  53.461340  ...  4.772481  3.598558\n",
              "1  2018-12-31 21:00:00+00:00  54.464130  ...  5.561646  4.411865\n",
              "2  2018-12-31 22:00:00+00:00  54.191047  ...  5.854397  4.684823\n",
              "3  2018-12-31 23:00:00+00:00  54.243952  ...  5.981506  4.747482\n",
              "4  2019-01-01 00:00:00+00:00  53.277664  ...  6.081391  4.883813\n",
              "\n",
              "[5 rows x 9 columns]"
            ]
          },
          "metadata": {},
          "execution_count": 3
        }
      ]
    },
    {
      "cell_type": "code",
      "metadata": {
        "colab": {
          "base_uri": "https://localhost:8080/",
          "height": 206
        },
        "id": "9aPamvgadyXG",
        "outputId": "926b36cb-3aed-4ca2-d8e8-bc7703ea712f"
      },
      "source": [
        "#merge data with input and output temperatures\n",
        "data = data.merge(temp_in[['ts', 'temp_in']], on='ts')\n",
        "data = data.merge(temp_out[['ts', 'temp_out']], on='ts')\n",
        "data.head()"
      ],
      "execution_count": 4,
      "outputs": [
        {
          "output_type": "execute_result",
          "data": {
            "text/html": [
              "<div>\n",
              "<style scoped>\n",
              "    .dataframe tbody tr th:only-of-type {\n",
              "        vertical-align: middle;\n",
              "    }\n",
              "\n",
              "    .dataframe tbody tr th {\n",
              "        vertical-align: top;\n",
              "    }\n",
              "\n",
              "    .dataframe thead th {\n",
              "        text-align: right;\n",
              "    }\n",
              "</style>\n",
              "<table border=\"1\" class=\"dataframe\">\n",
              "  <thead>\n",
              "    <tr style=\"text-align: right;\">\n",
              "      <th></th>\n",
              "      <th>ts</th>\n",
              "      <th>power12</th>\n",
              "      <th>power3</th>\n",
              "      <th>power4</th>\n",
              "      <th>temp1</th>\n",
              "      <th>temp2</th>\n",
              "      <th>temp3</th>\n",
              "      <th>temp4</th>\n",
              "      <th>temp5</th>\n",
              "      <th>temp_in</th>\n",
              "      <th>temp_out</th>\n",
              "    </tr>\n",
              "  </thead>\n",
              "  <tbody>\n",
              "    <tr>\n",
              "      <th>0</th>\n",
              "      <td>2018-12-31 20:00:00+00:00</td>\n",
              "      <td>53.461340</td>\n",
              "      <td>87.796478</td>\n",
              "      <td>105.498682</td>\n",
              "      <td>3.011382</td>\n",
              "      <td>4.319544</td>\n",
              "      <td>3.913138</td>\n",
              "      <td>4.772481</td>\n",
              "      <td>3.598558</td>\n",
              "      <td>45.346010</td>\n",
              "      <td>79.611295</td>\n",
              "    </tr>\n",
              "    <tr>\n",
              "      <th>1</th>\n",
              "      <td>2018-12-31 21:00:00+00:00</td>\n",
              "      <td>54.464130</td>\n",
              "      <td>74.151459</td>\n",
              "      <td>105.017897</td>\n",
              "      <td>3.439440</td>\n",
              "      <td>4.909789</td>\n",
              "      <td>4.428925</td>\n",
              "      <td>5.561646</td>\n",
              "      <td>4.411865</td>\n",
              "      <td>45.350819</td>\n",
              "      <td>80.416664</td>\n",
              "    </tr>\n",
              "    <tr>\n",
              "      <th>2</th>\n",
              "      <td>2018-12-31 22:00:00+00:00</td>\n",
              "      <td>54.191047</td>\n",
              "      <td>70.918662</td>\n",
              "      <td>105.600836</td>\n",
              "      <td>3.637795</td>\n",
              "      <td>5.066491</td>\n",
              "      <td>4.603145</td>\n",
              "      <td>5.854397</td>\n",
              "      <td>4.684823</td>\n",
              "      <td>45.396163</td>\n",
              "      <td>80.992841</td>\n",
              "    </tr>\n",
              "    <tr>\n",
              "      <th>3</th>\n",
              "      <td>2018-12-31 23:00:00+00:00</td>\n",
              "      <td>54.243952</td>\n",
              "      <td>69.949829</td>\n",
              "      <td>106.664194</td>\n",
              "      <td>3.694362</td>\n",
              "      <td>5.293024</td>\n",
              "      <td>4.542157</td>\n",
              "      <td>5.981506</td>\n",
              "      <td>4.747482</td>\n",
              "      <td>45.402380</td>\n",
              "      <td>81.630635</td>\n",
              "    </tr>\n",
              "    <tr>\n",
              "      <th>4</th>\n",
              "      <td>2019-01-01 00:00:00+00:00</td>\n",
              "      <td>53.277664</td>\n",
              "      <td>68.645953</td>\n",
              "      <td>106.001002</td>\n",
              "      <td>3.739370</td>\n",
              "      <td>5.414588</td>\n",
              "      <td>4.739108</td>\n",
              "      <td>6.081391</td>\n",
              "      <td>4.883813</td>\n",
              "      <td>45.440688</td>\n",
              "      <td>81.685051</td>\n",
              "    </tr>\n",
              "  </tbody>\n",
              "</table>\n",
              "</div>"
            ],
            "text/plain": [
              "                          ts    power12  ...    temp_in   temp_out\n",
              "0  2018-12-31 20:00:00+00:00  53.461340  ...  45.346010  79.611295\n",
              "1  2018-12-31 21:00:00+00:00  54.464130  ...  45.350819  80.416664\n",
              "2  2018-12-31 22:00:00+00:00  54.191047  ...  45.396163  80.992841\n",
              "3  2018-12-31 23:00:00+00:00  54.243952  ...  45.402380  81.630635\n",
              "4  2019-01-01 00:00:00+00:00  53.277664  ...  45.440688  81.685051\n",
              "\n",
              "[5 rows x 11 columns]"
            ]
          },
          "metadata": {},
          "execution_count": 4
        }
      ]
    },
    {
      "cell_type": "code",
      "metadata": {
        "id": "a6jgbWL6h4PW"
      },
      "source": [
        "data['ts'] = pd.to_datetime(data['ts'])"
      ],
      "execution_count": 5,
      "outputs": []
    },
    {
      "cell_type": "markdown",
      "metadata": {
        "id": "BHe8e2evgI1w"
      },
      "source": [
        "### Task 2: Clean data\n",
        "Check whether the data files are aligned, if there are some outliers, missing data, etc. Based on your findings suggest and implement a solution."
      ]
    },
    {
      "cell_type": "markdown",
      "metadata": {
        "id": "-CPSaN55hKI6"
      },
      "source": [
        "We are going to remove invalid records and split the data frame at gap borders."
      ]
    },
    {
      "cell_type": "code",
      "metadata": {
        "colab": {
          "base_uri": "https://localhost:8080/"
        },
        "id": "3zKgyss-eKp0",
        "outputId": "ac82f949-aace-400d-a0f3-9521a5f1dd6b"
      },
      "source": [
        "print (len(data))"
      ],
      "execution_count": 6,
      "outputs": [
        {
          "output_type": "stream",
          "name": "stdout",
          "text": [
            "13829\n"
          ]
        }
      ]
    },
    {
      "cell_type": "code",
      "metadata": {
        "colab": {
          "base_uri": "https://localhost:8080/"
        },
        "id": "wOp0fVqYg-pA",
        "outputId": "6713e0d2-d1b5-4f9b-8534-45239cd79a02"
      },
      "source": [
        "data = data[data['temp_in'] != 0.0]\n",
        "print (len(data))"
      ],
      "execution_count": 7,
      "outputs": [
        {
          "output_type": "stream",
          "name": "stdout",
          "text": [
            "13104\n"
          ]
        }
      ]
    },
    {
      "cell_type": "code",
      "metadata": {
        "id": "FSTuLmcBhGsH"
      },
      "source": [
        "from datetime import timedelta\n",
        "\n",
        "#identify gaps in the data\n",
        "data['gap'] = (data['ts'] - data['ts'].shift(1)) != timedelta(hours=1)"
      ],
      "execution_count": 8,
      "outputs": []
    },
    {
      "cell_type": "code",
      "metadata": {
        "colab": {
          "base_uri": "https://localhost:8080/"
        },
        "id": "Ak2CbIUvijMT",
        "outputId": "ef96b358-8d19-442d-c3d6-5b59644c829b"
      },
      "source": [
        "# create a list of data frames based on the gap positions\n",
        "\n",
        "attributes = ['power12', 'power3', 'power4', 'temp1', 'temp2', 'temp3', 'temp4', 'temp5', 'temp_in', 'temp_out']\n",
        "\n",
        "dflist = []\n",
        "\n",
        "start = 0\n",
        "for stop in range(1, len(data)):\n",
        "    if data.iloc[stop]['gap']:\n",
        "        dflist.append(data[start:stop][attributes])\n",
        "        start = stop\n",
        "len(dflist)"
      ],
      "execution_count": 9,
      "outputs": [
        {
          "output_type": "execute_result",
          "data": {
            "text/plain": [
              "23"
            ]
          },
          "metadata": {},
          "execution_count": 9
        }
      ]
    },
    {
      "cell_type": "markdown",
      "metadata": {
        "id": "JpqVhb7Ujep2"
      },
      "source": [
        "##Task 3: Create time series data\n",
        "\n"
      ]
    },
    {
      "cell_type": "code",
      "metadata": {
        "id": "pGl0F4YwjVF5"
      },
      "source": [
        "w = 5 #window size\n",
        "s = 1 #step\n",
        "X_all = []\n",
        "y_all = []"
      ],
      "execution_count": 10,
      "outputs": []
    },
    {
      "cell_type": "code",
      "metadata": {
        "id": "jbO2qimVmj2b"
      },
      "source": [
        "for df in dflist:\n",
        "    for i in range(0, len(df)-w-1, s):\n",
        "        X_all.append(df[i:i+w].values)\n",
        "        y_all.append(df.iloc[i+w]['temp_in'])"
      ],
      "execution_count": 11,
      "outputs": []
    },
    {
      "cell_type": "code",
      "metadata": {
        "colab": {
          "base_uri": "https://localhost:8080/"
        },
        "id": "dkJKm971mnlJ",
        "outputId": "7a91ad79-bd31-45ac-f83a-48bdc98e3b15"
      },
      "source": [
        "import numpy as np\n",
        "\n",
        "X_all = np.array(X_all)\n",
        "y_all = np.array(y_all)\n",
        "\n",
        "print (X_all.shape)\n",
        "print (y_all.shape)"
      ],
      "execution_count": 12,
      "outputs": [
        {
          "output_type": "stream",
          "name": "stdout",
          "text": [
            "(12976, 5, 10)\n",
            "(12976,)\n"
          ]
        }
      ]
    },
    {
      "cell_type": "markdown",
      "metadata": {
        "id": "TSMF9rpVoh25"
      },
      "source": [
        "##Task 4: Split data into validation and train data sets and train an ML model\n",
        "\n",
        "Hints: \n",
        " - Before training an ML model, suggest and implement some baseline\n",
        " - As the data is not big enough, try to use cross validation\n",
        " - A recurrent neural network is not necessarily the best model for this task"
      ]
    },
    {
      "cell_type": "markdown",
      "metadata": {
        "id": "6_GP1bzGrBsa"
      },
      "source": [
        "We are going to implement a GBT on short sequences evaluated using cross validation."
      ]
    },
    {
      "cell_type": "code",
      "metadata": {
        "id": "YLoSjQpJmpld"
      },
      "source": [
        "def rmse(predictions, true_values):\n",
        "    return np.sqrt(((predictions - true_values) ** 2).mean())"
      ],
      "execution_count": 13,
      "outputs": []
    },
    {
      "cell_type": "code",
      "metadata": {
        "colab": {
          "base_uri": "https://localhost:8080/"
        },
        "id": "52YkqNt0ofUm",
        "outputId": "b88e5fc9-973a-41d3-af5d-087e68d4f590"
      },
      "source": [
        "import random\n",
        "from sklearn.ensemble import GradientBoostingRegressor\n",
        "\n",
        "\n",
        "mean_baseline = []\n",
        "last_values_baseline = []\n",
        "ml_model = []\n",
        "iters = 20\n",
        "train_size = int(0.9*len(X_all))\n",
        "\n",
        "X_all_flat = X_all.reshape(X_all.shape[0], -1)\n",
        "y_all_baseline = X_all_flat[:, -2]\n",
        "\n",
        "for i in range(iters):\n",
        "    all_data = list(zip(X_all_flat, y_all, y_all_baseline))\n",
        "    random.shuffle(all_data)\n",
        "    X_all_flat_rand, y_all_rand, y_all_rand_baseline = zip(*all_data)\n",
        "    X_train = np.array(X_all_flat_rand[:train_size])\n",
        "    y_train = np.array(y_all_rand[:train_size])\n",
        "    X_test = np.array(X_all_flat_rand[train_size:])\n",
        "    y_test = np.array(y_all_rand[train_size:])\n",
        "    y_baseline = np.array(y_all_rand_baseline[train_size:])\n",
        "    \n",
        "    print (\"Training iteration {}.\".format(i+1))\n",
        "    regr = GradientBoostingRegressor(n_estimators=500)\n",
        "    regr.fit(X_train, y_train)\n",
        "    y_pred = regr.predict(X_test)\n",
        "    \n",
        "    m = np.mean(y_train)\n",
        "    y_mean = np.array([m for i in range(len(y_test))])\n",
        "    \n",
        "    mean_baseline.append(rmse(y_mean, y_test))\n",
        "    last_values_baseline.append(rmse(y_baseline, y_test))\n",
        "    ml_model.append(rmse(y_pred, y_test))"
      ],
      "execution_count": 14,
      "outputs": [
        {
          "output_type": "stream",
          "name": "stdout",
          "text": [
            "Training iteration 1.\n",
            "Training iteration 2.\n",
            "Training iteration 3.\n",
            "Training iteration 4.\n",
            "Training iteration 5.\n",
            "Training iteration 6.\n",
            "Training iteration 7.\n",
            "Training iteration 8.\n",
            "Training iteration 9.\n",
            "Training iteration 10.\n",
            "Training iteration 11.\n",
            "Training iteration 12.\n",
            "Training iteration 13.\n",
            "Training iteration 14.\n",
            "Training iteration 15.\n",
            "Training iteration 16.\n",
            "Training iteration 17.\n",
            "Training iteration 18.\n",
            "Training iteration 19.\n",
            "Training iteration 20.\n"
          ]
        }
      ]
    },
    {
      "cell_type": "code",
      "metadata": {
        "colab": {
          "base_uri": "https://localhost:8080/"
        },
        "id": "JmsnkvHIrwFh",
        "outputId": "6c918a09-bbc8-4133-8796-6837368473c2"
      },
      "source": [
        "print (\"Mean baseline: {} +- {}.\".format(np.mean(mean_baseline), np.std(mean_baseline)))\n",
        "print (\"Last values baseline: {} +- {}.\".format(np.mean(last_values_baseline), np.std(last_values_baseline)))\n",
        "print (\"ML model: {} +- {}.\".format(np.mean(ml_model), np.std(ml_model)))"
      ],
      "execution_count": 15,
      "outputs": [
        {
          "output_type": "stream",
          "name": "stdout",
          "text": [
            "Mean baseline: 3.712397637097331 +- 0.10373306678078355.\n",
            "Last values baseline: 0.9189555404941198 +- 0.27558580279085165.\n",
            "ML model: 0.8754540195163033 +- 0.21807511212629327.\n"
          ]
        }
      ]
    }
  ]
}